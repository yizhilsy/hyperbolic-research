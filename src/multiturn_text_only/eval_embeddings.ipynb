{
 "cells": [
  {
   "cell_type": "markdown",
   "id": "72021a65",
   "metadata": {},
   "source": [
    "### 可视化模型 `llava-v1.6-mistral-7b-hf` 在数据集 `tom-gibbs/multi-turn_jailbreak_attack_datasets` 上的隐藏层中的张量"
   ]
  },
  {
   "cell_type": "markdown",
   "id": "f94adc9f",
   "metadata": {},
   "source": [
    "#### 欧几里得空间 | tsne降维"
   ]
  }
 ],
 "metadata": {
  "language_info": {
   "name": "python"
  }
 },
 "nbformat": 4,
 "nbformat_minor": 5
}

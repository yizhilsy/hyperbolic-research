{
 "cells": [
  {
   "cell_type": "markdown",
   "id": "9dc8c304",
   "metadata": {},
   "source": [
    "### 在数据集 `tom-gibbs/multi-turn_jailbreak_attack_datasets` 上抽取模型 `llava-v1.6-mistral-7b-hf` 隐藏层中的嵌入向量"
   ]
  },
  {
   "cell_type": "markdown",
   "id": "d643679d",
   "metadata": {},
   "source": [
    "#### 载入多轮纯文本攻击数据集"
   ]
  },
  {
   "cell_type": "code",
   "execution_count": 1,
   "id": "96b98696",
   "metadata": {},
   "outputs": [],
   "source": [
    "from scipy.io import loadmat\n",
    "import numpy as np\n",
    "from joblib import load\n",
    "import pandas as pd\n",
    "import matplotlib.pyplot as plt\n",
    "\n",
    "# 导入 torch 库\n",
    "import torch\n",
    "from torch.utils.data import DataLoader\n",
    "# 导入 transformers 库\n",
    "import transformers\n",
    "from transformers import AutoProcessor, LlavaForConditionalGeneration, LlavaNextForConditionalGeneration\n"
   ]
  },
  {
   "cell_type": "markdown",
   "id": "949b5f6e",
   "metadata": {},
   "source": [
    "#### 模型配置及载入"
   ]
  },
  {
   "cell_type": "code",
   "execution_count": 2,
   "id": "347a145e",
   "metadata": {},
   "outputs": [
    {
     "data": {
      "application/vnd.jupyter.widget-view+json": {
       "model_id": "1f4ded391ab5458e9b38f3bc0253455b",
       "version_major": 2,
       "version_minor": 0
      },
      "text/plain": [
       "Loading checkpoint shards:   0%|          | 0/4 [00:00<?, ?it/s]"
      ]
     },
     "metadata": {},
     "output_type": "display_data"
    },
    {
     "name": "stderr",
     "output_type": "stream",
     "text": [
      "Using a slow image processor as `use_fast` is unset and a slow processor was saved with this model. `use_fast=True` will be the default behavior in v4.52, even if the model was saved with a slow processor. This will result in minor differences in outputs. You'll still be able to use a slow processor with `use_fast=False`.\n"
     ]
    }
   ],
   "source": [
    "model_name_or_path = \"../../llava-hf/llava-v1.6-mistral-7b-hf\"\n",
    "device = \"cuda:0\"\n",
    "\n",
    "model = LlavaNextForConditionalGeneration.from_pretrained(\n",
    "    pretrained_model_name_or_path=model_name_or_path,\n",
    "    device_map=device,\n",
    "    torch_dtype=torch.bfloat16\n",
    ")\n",
    "\n",
    "# image_processor: CLIPImageProcessor, tokenizer: LlamaTokenizerFast\n",
    "processor = AutoProcessor.from_pretrained(pretrained_model_name_or_path=model_name_or_path)"
   ]
  },
  {
   "cell_type": "markdown",
   "id": "c9b0d8fa",
   "metadata": {},
   "source": [
    "#### 读取并处理数据集"
   ]
  },
  {
   "cell_type": "code",
   "execution_count": 3,
   "id": "6b8dea56",
   "metadata": {},
   "outputs": [],
   "source": [
    "import ast\n",
    "\n",
    "mt_text_only_jailbreak_complete_harmful_df = pd.read_csv('/s/datasets/tom-gibbs/multi-turn_jailbreak_attack_datasets/Complete Harmful Dataset.csv')\n",
    "# 随机抽样 64 行并覆盖回原 DataFrame\n",
    "mt_text_only_jailbreak_complete_harmful_df = (\n",
    "    mt_text_only_jailbreak_complete_harmful_df.sample(n=64, random_state=42)  # 可加 random_state 保证复现\n",
    "    .reset_index(drop=True)  # 重置索引，避免留下原来的行号\n",
    ")\n",
    "attack_conversation = []\n",
    "attack_mt_record = []\n",
    "\n",
    "for conv_str in mt_text_only_jailbreak_complete_harmful_df['Multi-turn conversation']:\n",
    "    mt_conversation = ast.literal_eval(conv_str)\n",
    "\n",
    "    llava_formatted_conversations = []\n",
    "    for turn in mt_conversation[:-1]:\n",
    "        llava_formatted_single_conv = {\n",
    "            \"role\": turn[\"role\"],\n",
    "            \"content\": [\n",
    "                {\n",
    "                    \"type\": \"text\",\n",
    "                    \"text\": turn[\"content\"]\n",
    "                }\n",
    "            ]\n",
    "        }\n",
    "        llava_formatted_conversations.append(llava_formatted_single_conv)\n",
    "\n",
    "    # 记录多轮对话\n",
    "    attack_mt_record.append(llava_formatted_conversations)\n",
    "\n",
    "    # 将多轮对话转换为 prompt 格式\n",
    "    attack_prompt = processor.apply_chat_template(llava_formatted_conversations, add_generation_prompt=True)\n",
    "    attack_conversation.append(attack_prompt)\n",
    "\n",
    "inputs = processor(text=attack_conversation, return_tensors=\"pt\", padding=True)\n",
    "\n",
    "for temp_key in inputs.keys():\n",
    "    inputs[temp_key] = inputs[temp_key].to(device)"
   ]
  },
  {
   "cell_type": "code",
   "execution_count": 5,
   "id": "22907de2",
   "metadata": {},
   "outputs": [
    {
     "data": {
      "text/plain": [
       "torch.Size([64, 5560])"
      ]
     },
     "execution_count": 5,
     "metadata": {},
     "output_type": "execute_result"
    }
   ],
   "source": [
    "inputs['input_ids'].shape"
   ]
  },
  {
   "cell_type": "code",
   "execution_count": 6,
   "id": "d15e6043",
   "metadata": {},
   "outputs": [
    {
     "data": {
      "text/plain": [
       "MistralModel(\n",
       "  (embed_tokens): Embedding(32064, 4096)\n",
       "  (layers): ModuleList(\n",
       "    (0-31): 32 x MistralDecoderLayer(\n",
       "      (self_attn): MistralAttention(\n",
       "        (q_proj): Linear(in_features=4096, out_features=4096, bias=False)\n",
       "        (k_proj): Linear(in_features=4096, out_features=1024, bias=False)\n",
       "        (v_proj): Linear(in_features=4096, out_features=1024, bias=False)\n",
       "        (o_proj): Linear(in_features=4096, out_features=4096, bias=False)\n",
       "      )\n",
       "      (mlp): MistralMLP(\n",
       "        (gate_proj): Linear(in_features=4096, out_features=14336, bias=False)\n",
       "        (up_proj): Linear(in_features=4096, out_features=14336, bias=False)\n",
       "        (down_proj): Linear(in_features=14336, out_features=4096, bias=False)\n",
       "        (act_fn): SiLU()\n",
       "      )\n",
       "      (input_layernorm): MistralRMSNorm((4096,), eps=1e-05)\n",
       "      (post_attention_layernorm): MistralRMSNorm((4096,), eps=1e-05)\n",
       "    )\n",
       "  )\n",
       "  (norm): MistralRMSNorm((4096,), eps=1e-05)\n",
       "  (rotary_emb): MistralRotaryEmbedding()\n",
       ")"
      ]
     },
     "execution_count": 6,
     "metadata": {},
     "output_type": "execute_result"
    }
   ],
   "source": [
    "model.model.language_model"
   ]
  },
  {
   "cell_type": "markdown",
   "id": "93508e75",
   "metadata": {},
   "source": [
    "#### 进行模型的推理及保存在 (0,8,16,24,32) 隐藏层中的张量"
   ]
  },
  {
   "cell_type": "code",
   "execution_count": null,
   "id": "36edeb53",
   "metadata": {},
   "outputs": [],
   "source": [
    "import os\n",
    "from torch.nn.utils.rnn import pad_sequence\n",
    "\n",
    "batch_size = 1\n",
    "result_generate_ids = []\n",
    "# 用字典保存文本大模型不同隐藏层的结果\n",
    "hidden_results = {i: [] for i in range(0, 33, 8)}   # 0,8,16,24,32\n",
    "\n",
    "with torch.no_grad():\n",
    "    for i in range(0, inputs[\"input_ids\"].size(0), batch_size):\n",
    "        # 构建一个子字典，取 [i:i+batch_size]\n",
    "        input_item = {k: v[i:i+batch_size] for k, v in inputs.items()}\n",
    "\n",
    "        outputs = model(**input_item, output_hidden_states=True, return_dict=True)\n",
    "        hidden_states = outputs.hidden_states\n",
    "\n",
    "        # 每隔 8 层提取\n",
    "        for layer_idx in range(0, 33, 8):\n",
    "            hidden_results[layer_idx].append(hidden_states[layer_idx].cpu())  \n",
    "\n",
    "        # 节约显存，立即删除GPU上的残留\n",
    "        del outputs, hidden_states\n",
    "        torch.cuda.empty_cache()\n",
    "\n",
    "        # 模型生成\n",
    "        generate_ids = model.generate(**input_item, max_new_tokens=256)\n",
    "        result_generate_ids.append(generate_ids.cpu())\n",
    "        del generate_ids\n",
    "        torch.cuda.empty_cache()\n",
    "\n",
    "# 保存隐藏层中的张量\n",
    "for layer_idx in hidden_results.keys():\n",
    "    hidden_results[layer_idx] = torch.cat(hidden_results[layer_idx], dim=0)\n",
    "\n",
    "save_dir = \"/home/lsy/workspace/HyperbolicResearch/src/multiturn_text_only/embeddings\"\n",
    "os.makedirs(save_dir, exist_ok=True)\n",
    "\n",
    "for layer_idx, tensor in hidden_results.items():\n",
    "    save_path = os.path.join(save_dir, f\"layer_{layer_idx}.pt\")\n",
    "    torch.save(tensor, save_path)\n",
    "    print(f\"Saved {layer_idx}-th layer tensor to {save_path}\")\n",
    "    del tensor  # 释放内存\n",
    "\n",
    "\n",
    "\n",
    "# 假设 result_generate_ids 是一个 list，每个元素是 [batch, seq_len] 的张量\n",
    "# 先展平 list 里的 batch\n",
    "all_seqs = []\n",
    "for gen in result_generate_ids:\n",
    "    for seq in gen:\n",
    "        all_seqs.append(seq)\n",
    "\n",
    "# pad 成同样长度（默认填充 0，也可以换成 tokenizer.pad_token_id）\n",
    "result_generate_ids = pad_sequence(\n",
    "    all_seqs,\n",
    "    batch_first=True,\n",
    "    padding_value=processor.tokenizer.pad_token_id\n",
    ")\n",
    "print(result_generate_ids.shape)  # (总样本数, max_seq_len)"
   ]
  },
  {
   "cell_type": "markdown",
   "id": "9813ecfc",
   "metadata": {},
   "source": [
    "#### 将模型生成的文本 token 序列解码成字符串形式，并调整为llama-guard的格式便于后续的评估"
   ]
  },
  {
   "cell_type": "code",
   "execution_count": 8,
   "id": "dc037bd1",
   "metadata": {},
   "outputs": [
    {
     "name": "stdout",
     "output_type": "stream",
     "text": [
      "Conversations saved to /home/lsy/workspace/HyperbolicResearch/src/multiturn_text_only/eval_chat/eval_conversations.json\n"
     ]
    }
   ],
   "source": [
    "import re\n",
    "import json\n",
    "\n",
    "responses = processor.batch_decode(result_generate_ids, skip_special_tokens=True, clean_up_tokenization_spaces=False)\n",
    "eval_chat_save_dir = \"/home/lsy/workspace/HyperbolicResearch/src/multiturn_text_only/eval_chat\"\n",
    "os.makedirs(eval_chat_save_dir, exist_ok=True)\n",
    "\n",
    "for i, resp in enumerate(responses):\n",
    "    parts = resp.split(\"[/INST]\")\n",
    "    llava_model_output = parts[-1].strip()\n",
    "    llava_model_answer = {\n",
    "        \"role\": \"assistant\",\n",
    "        \"content\": [\n",
    "            {\n",
    "                \"type\": \"text\",\n",
    "                \"text\": llava_model_output\n",
    "            }\n",
    "        ]\n",
    "    }\n",
    "\n",
    "    attack_mt_record[i].append(llava_model_answer)\n",
    "\n",
    "eval_chat_save_path = os.path.join(eval_chat_save_dir, \"eval_conversations.json\")\n",
    "# 将攻击多轮对话记录保存为json文件\n",
    "with open(eval_chat_save_path, \"w\", encoding=\"utf-8\") as f:\n",
    "    json.dump(attack_mt_record, f, ensure_ascii=False, indent=4)\n",
    "\n",
    "print(f\"Conversations saved to {eval_chat_save_path}\")"
   ]
  },
  {
   "cell_type": "markdown",
   "id": "562b3aa2",
   "metadata": {},
   "source": [
    "#### 对模型进行多轮攻击(非最后一轮攻击)"
   ]
  },
  {
   "cell_type": "code",
   "execution_count": null,
   "id": "07dcf108",
   "metadata": {},
   "outputs": [],
   "source": []
  }
 ],
 "metadata": {
  "kernelspec": {
   "display_name": "hysac",
   "language": "python",
   "name": "python3"
  },
  "language_info": {
   "codemirror_mode": {
    "name": "ipython",
    "version": 3
   },
   "file_extension": ".py",
   "mimetype": "text/x-python",
   "name": "python",
   "nbconvert_exporter": "python",
   "pygments_lexer": "ipython3",
   "version": "3.10.16"
  }
 },
 "nbformat": 4,
 "nbformat_minor": 5
}
